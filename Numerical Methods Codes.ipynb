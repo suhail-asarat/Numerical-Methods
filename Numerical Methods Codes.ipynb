{
 "cells": [
  {
   "cell_type": "markdown",
   "metadata": {},
   "source": [
    "### Cramer's Rules"
   ]
  },
  {
   "cell_type": "markdown",
   "metadata": {},
   "source": [
    "A total of 8,500 taka was invested in three interest earning accounts. The interest rates were 2%,3% and 6% if the total simple interest for one year was 380 taka and the amount invested at 6% was equal to the sum of the amounts in the other two accounts, then how much was invested in each account? (Use Cramer’s rule) and implement with python."
   ]
  },
  {
   "cell_type": "code",
   "execution_count": 2,
   "metadata": {},
   "outputs": [
    {
     "name": "stdout",
     "output_type": "stream",
     "text": [
      "Amount invested in account with 2% interest: 250.00 taka\n",
      "Amount invested in account with 3% interest: 4000.00 taka\n",
      "Amount invested in account with 6% interest: 4250.00 taka\n"
     ]
    }
   ],
   "source": [
    "import numpy as np\n",
    "\n",
    "# Coefficients matrix\n",
    "A = np.array([[1, 1, 1],\n",
    "        [0.02, 0.03, 0.06],\n",
    "        [1, 1, -1]])\n",
    "\n",
    "# Constants matrix\n",
    "B = np.array([8500, 380, 0])\n",
    "\n",
    "# Calculate the determinant of A\n",
    "det_A = np.linalg.det(A)\n",
    "\n",
    "# Create matrices for x, y, and z by replacing the respective column in A with B\n",
    "A_x = A.copy()\n",
    "A_x[:, 0] = B\n",
    "A_y = A.copy()\n",
    "A_y[:, 1] = B\n",
    "A_z = A.copy()\n",
    "A_z[:, 2] = B\n",
    "\n",
    "# Calculate the determinants of A_x, A_y, and A_z\n",
    "det_A_x = np.linalg.det(A_x)\n",
    "det_A_y = np.linalg.det(A_y)\n",
    "det_A_z = np.linalg.det(A_z)\n",
    "\n",
    "# Calculate the values of x, y, and z using Cramer's rule\n",
    "x = det_A_x / det_A\n",
    "y = det_A_y / det_A\n",
    "z = det_A_z / det_A\n",
    "\n",
    "print(f\"Amount invested in account with 2% interest: {x:.2f} taka\")\n",
    "print(f\"Amount invested in account with 3% interest: {y:.2f} taka\")\n",
    "print(f\"Amount invested in account with 6% interest: {z:.2f} taka\")"
   ]
  },
  {
   "cell_type": "markdown",
   "metadata": {},
   "source": [
    "### Naïve Gauss Elimination Method"
   ]
  },
  {
   "cell_type": "markdown",
   "metadata": {},
   "source": [
    "Consider an online store selling T-shirts (T) and Hoodies (H). The prices are as follows:\\\n",
    "✓ A T-shirt costs $10.\\\n",
    "✓ A Hoodie costs $20.\\\n",
    "A customer buys three items (either T-shirts or Hoodies) for a total cost of $50. How many T-shirts (x) and Hoodies(y) did the customer buy?\\\n",
    "Solve Using Gauss-elimination method after that implement it by Python."
   ]
  },
  {
   "cell_type": "code",
   "execution_count": 3,
   "metadata": {},
   "outputs": [
    {
     "name": "stdout",
     "output_type": "stream",
     "text": [
      "Number of T-shirts (x): 1.0\n",
      "Number of Hoodies (y): 2.0\n"
     ]
    }
   ],
   "source": [
    "import numpy as np\n",
    "\n",
    "# Coefficients matrix\n",
    "A = np.array([[10, 20],\n",
    "        [1, 1]])\n",
    "\n",
    "# Constants matrix\n",
    "B = np.array([50, 3])\n",
    "\n",
    "# Augmented matrix\n",
    "augmented_matrix = np.hstack((A, B.reshape(-1, 1)))\n",
    "\n",
    "# Perform Gaussian elimination\n",
    "n = len(B)\n",
    "for i in range(n):\n",
    "  # Make the diagonal contain all 1's\n",
    "  augmented_matrix[i] = augmented_matrix[i] / augmented_matrix[i, i]\n",
    "  \n",
    "  # Make the elements below the pivot elements equal to zero\n",
    "  for j in range(i + 1, n):\n",
    "    augmented_matrix[j] = augmented_matrix[j] - augmented_matrix[j, i] * augmented_matrix[i]\n",
    "\n",
    "# Back substitution\n",
    "x = np.zeros(n)\n",
    "for i in range(n - 1, -1, -1):\n",
    "  x[i] = augmented_matrix[i, -1] - np.sum(augmented_matrix[i, :-1] * x)\n",
    "\n",
    "print(f\"Number of T-shirts (x): {x[0]}\")\n",
    "print(f\"Number of Hoodies (y): {x[1]}\")"
   ]
  },
  {
   "cell_type": "markdown",
   "metadata": {},
   "source": [
    "### Gauss-Jordan Method"
   ]
  },
  {
   "cell_type": "markdown",
   "metadata": {},
   "source": [
    "An investor has $10,000 to invest in two types of financial instruments: stocks and bonds. The expected return from stocks is 8%, and from bonds is 5%. The investor wants the total return to be $700. Find the amount invested in each type Using Gauss-Jordan method after that implement it using Python."
   ]
  },
  {
   "cell_type": "code",
   "execution_count": 1,
   "metadata": {},
   "outputs": [
    {
     "name": "stdout",
     "output_type": "stream",
     "text": [
      "Amount invested in stocks: 6666.67 dollars\n",
      "Amount invested in bonds: 3333.33 dollars\n"
     ]
    }
   ],
   "source": [
    "import numpy as np\n",
    "\n",
    "# Coefficients matrix\n",
    "A = np.array([[1, 1],\n",
    "        [0.08, 0.05]])\n",
    "\n",
    "# Constants matrix\n",
    "B = np.array([10000, 700])\n",
    "\n",
    "# Augmented matrix\n",
    "augmented_matrix = np.hstack((A, B.reshape(-1, 1)))\n",
    "\n",
    "# Perform Gauss-Jordan elimination\n",
    "n = len(B)\n",
    "for i in range(n):\n",
    "  # Make the diagonal contain all 1's\n",
    "  augmented_matrix[i] = augmented_matrix[i] / augmented_matrix[i, i]\n",
    "  \n",
    "  # Make the other elements in the column equal to zero\n",
    "  for j in range(n):\n",
    "    if i != j:\n",
    "      augmented_matrix[j] = augmented_matrix[j] - augmented_matrix[j, i] * augmented_matrix[i]\n",
    "\n",
    "# The solution is in the last column of the augmented matrix\n",
    "x = augmented_matrix[:, -1]\n",
    "\n",
    "print(f\"Amount invested in stocks: {x[0]:.2f} dollars\")\n",
    "print(f\"Amount invested in bonds: {x[1]:.2f} dollars\")"
   ]
  },
  {
   "cell_type": "markdown",
   "metadata": {},
   "source": [
    "### Bisection Method"
   ]
  },
  {
   "cell_type": "markdown",
   "metadata": {},
   "source": [
    "Use the Bisection Method to determine the drag coefficients ‘c’ needed for a Parachutist of mass m=68.1 kg to have a velocity of 40 m/s after free-falling for timer t=10 s after that Implement it by Python. In Python, Result must be shown both Graphical and Tabular format. Note: The acceleration due to gravity is 9.81 m/s2.\\\n",
    "The equation is f(c)= (gm/c)*(1-e^-((c/m)*t)) -v"
   ]
  },
  {
   "cell_type": "code",
   "execution_count": 10,
   "metadata": {},
   "outputs": [
    {
     "name": "stdout",
     "output_type": "stream",
     "text": [
      "+-----------+--------------------+--------------------+--------------------+------------------------+-------------------------+-------------------------+\n",
      "| iteration |         a          |         b          |         c          |          f(a)          |          f(b)           |          f(c)           |\n",
      "+-----------+--------------------+--------------------+--------------------+------------------------+-------------------------+-------------------------+\n",
      "|     0     |         12         |         16         |        14.0        |   6.066949962931268    |   -2.2687542080397662   |   1.5687097255309936    |\n",
      "|     1     |        14.0        |         16         |        15.0        |   1.5687097255309936   |   -2.2687542080397662   |   -0.4248318872019681   |\n",
      "|     2     |        14.0        |        15.0        |        14.5        |   1.5687097255309936   |   -0.4248318872019681   |   0.5523282056876297    |\n",
      "|     3     |        14.5        |        15.0        |       14.75        |   0.5523282056876297   |   -0.4248318872019681   |  0.058962833555469274   |\n",
      "|     4     |       14.75        |        15.0        |       14.875       |  0.058962833555469274  |   -0.4248318872019681   |  -0.18411653157975394   |\n",
      "|     5     |       14.75        |       14.875       |      14.8125       |  0.058962833555469274  |  -0.18411653157975394   |  -0.06287412603213482   |\n",
      "|     6     |       14.75        |      14.8125       |      14.78125      |  0.058962833555469274  |  -0.06287412603213482   |  -0.002030188776416253  |\n",
      "|     7     |       14.75        |      14.78125      |     14.765625      |  0.058962833555469274  |  -0.002030188776416253  |   0.02844765876266564   |\n",
      "|     8     |     14.765625      |      14.78125      |     14.7734375     |  0.02844765876266564   |  -0.002030188776416253  |   0.01320407258911871   |\n",
      "|     9     |     14.7734375     |      14.78125      |    14.77734375     |  0.01320407258911871   |  -0.002030188776416253  |  0.005585776742869086   |\n",
      "|    10     |    14.77734375     |      14.78125      |    14.779296875    |  0.005585776742869086  |  -0.002030188776416253  |  0.0017775027470179339  |\n",
      "|    11     |    14.779296875    |      14.78125      |   14.7802734375    | 0.0017775027470179339  |  -0.002030188776416253  | -0.00012641581692207637 |\n",
      "|    12     |    14.779296875    |   14.7802734375    |   14.77978515625   | 0.0017775027470179339  | -0.00012641581692207637 |  0.000825525263643101   |\n",
      "|    13     |   14.77978515625   |   14.7802734375    |  14.780029296875   |  0.000825525263643101  | -0.00012641581692207637 |  0.0003495501731194395  |\n",
      "|    14     |  14.780029296875   |   14.7802734375    |  14.7801513671875  | 0.0003495501731194395  | -0.00012641581692207637 | 0.00011156604055884145  |\n",
      "|    15     |  14.7801513671875  |   14.7802734375    | 14.78021240234375  | 0.00011156604055884145 | -0.00012641581692207637 | -7.425172562136595e-06  |\n",
      "|    16     |  14.7801513671875  | 14.78021240234375  | 14.780181884765625 | 0.00011156604055884145 | -7.425172562136595e-06  | 5.2070362897893574e-05  |\n",
      "|    17     | 14.780181884765625 | 14.78021240234375  | 14.780197143554688 | 5.2070362897893574e-05 | -7.425172562136595e-06  | 2.2322577386546527e-05  |\n",
      "|    18     | 14.780197143554688 | 14.78021240234375  | 14.780204772949219 | 2.2322577386546527e-05 | -7.425172562136595e-06  |  7.448697971312868e-06  |\n",
      "|    19     | 14.780204772949219 | 14.78021240234375  | 14.780208587646484 | 7.448697971312868e-06  | -7.425172562136595e-06  | 1.1761592588754866e-08  |\n",
      "|    20     | 14.780208587646484 | 14.78021240234375  | 14.780210494995117 | 1.1761592588754866e-08 | -7.425172562136595e-06  | -3.7067057689910143e-06 |\n",
      "|    21     | 14.780208587646484 | 14.780210494995117 |  14.7802095413208  | 1.1761592588754866e-08 | -3.7067057689910143e-06 | -1.8474721557026896e-06 |\n",
      "+-----------+--------------------+--------------------+--------------------+------------------------+-------------------------+-------------------------+\n"
     ]
    },
    {
     "data": {
      "image/png": "[encoded data removed]",
      "text/plain": [
       "<Figure size 640x480 with 1 Axes>"
      ]
     },
     "metadata": {},
     "output_type": "display_data"
    },
    {
     "name": "stdout",
     "output_type": "stream",
     "text": [
      "The approximate root is: 14.780210\n"
     ]
    }
   ],
   "source": [
    "import matplotlib.pyplot as plt\n",
    "from tabulate import tabulate\n",
    "import math\n",
    "def bisection(func,a,b,tol=1e-6,max_iter=100):\n",
    "  iterations=[]\n",
    "  a_values=[]\n",
    "  b_values=[]\n",
    "  c_values=[]\n",
    "  f_a_values=[]\n",
    "  f_b_values=[]\n",
    "  f_c_values=[]\n",
    "  if func(a)*func(b)>=0:\n",
    "    raise ValueError(\"the value is not accurate\")\n",
    "  for i in range(max_iter):\n",
    "    c=(a+b)/2\n",
    "    iterations.append(i)\n",
    "    a_values.append(a)\n",
    "    b_values.append(b)\n",
    "    c_values.append(c)\n",
    "    f_a=func(a)\n",
    "    f_b=func(b)\n",
    "    f_c=func(c)\n",
    "    f_a_values.append(f_a)\n",
    "    f_b_values.append(f_b)\n",
    "    f_c_values.append(f_c)\n",
    "    if f_c==0 or abs(b-a)/2<tol:\n",
    "      break\n",
    "    elif f_a * f_c<0:\n",
    "      b=c\n",
    "    else:\n",
    "      a=c\n",
    "      \n",
    "  results=list(zip(iterations,a_values,b_values,c_values,f_a_values,f_b_values,f_c_values))\n",
    "\n",
    "  table=tabulate(results,headers=[\"iteration\",\"a\",\"b\",\"c\",\"f(a)\",\"f(b)\",\"f(c)\"],tablefmt=\"pretty\")\n",
    "  \n",
    "  print(table)\n",
    "  \n",
    "  # x=[i/10 for i in range(int(10*min(a,b))-1,int(10*max(a,b))+2)]\n",
    "  # y=[func(xi) for xi in x]\n",
    "  \n",
    "  min_value = min(a, b)\n",
    "  max_value = max(a, b)\n",
    "  x = []\n",
    "  y = []\n",
    "  for i in range(int(10 * min_value) - 1, int(10 * max_value) + 2):\n",
    "    xi = i / 10\n",
    "    x.append(xi)\n",
    "    y.append(func(xi))\n",
    "\n",
    "\n",
    "  plt.plot(x,y,label='f(x)') \n",
    "  plt.axhline(0,color='red',linestyle='-',label='y=0')\n",
    "  plt.axvline(c,color='green',linestyle='-',label='Root Approximation')\n",
    "  plt.title('Bisection method')\n",
    "  plt.xlabel('x')\n",
    "  plt.ylabel('f(x)')\n",
    "  plt.legend()\n",
    "  plt.grid(True)\n",
    "  plt.show()\n",
    "  return c\n",
    "\n",
    "def function(c):\n",
    "  return ((667.38 /c) * (1 - math.exp(-0.146843 * c))) - 40\n",
    "\n",
    "a=12\n",
    "b=16\n",
    "root=bisection(function,a,b)\n",
    "print(f\"The approximate root is: {root:.6f}\")"
   ]
  },
  {
   "cell_type": "markdown",
   "metadata": {},
   "source": [
    "### False Position Method"
   ]
  },
  {
   "cell_type": "markdown",
   "metadata": {},
   "source": []
  },
  {
   "cell_type": "markdown",
   "metadata": {},
   "source": [
    "### Milne’s Predictor-Corrector Method"
   ]
  },
  {
   "cell_type": "markdown",
   "metadata": {},
   "source": []
  },
  {
   "cell_type": "markdown",
   "metadata": {},
   "source": [
    "### Polynomial Regression"
   ]
  },
  {
   "cell_type": "markdown",
   "metadata": {},
   "source": []
  },
  {
   "cell_type": "markdown",
   "metadata": {},
   "source": [
    "### Linear Regression"
   ]
  },
  {
   "cell_type": "markdown",
   "metadata": {},
   "source": []
  },
  {
   "cell_type": "markdown",
   "metadata": {},
   "source": [
    "### Eliminate error in Trapezoidal rule by applying Simpson’s rule"
   ]
  },
  {
   "cell_type": "markdown",
   "metadata": {},
   "source": []
  },
  {
   "cell_type": "markdown",
   "metadata": {},
   "source": [
    "### Simpsons 1/3 & 3/8 rules"
   ]
  },
  {
   "cell_type": "markdown",
   "metadata": {},
   "source": []
  },
  {
   "cell_type": "markdown",
   "metadata": {},
   "source": [
    "### Picard’s Method"
   ]
  },
  {
   "cell_type": "markdown",
   "metadata": {},
   "source": []
  },
  {
   "cell_type": "markdown",
   "metadata": {},
   "source": [
    "### Simple Fixed Point Iteration (Convergence-Divergence)"
   ]
  },
  {
   "cell_type": "markdown",
   "metadata": {},
   "source": []
  },
  {
   "cell_type": "markdown",
   "metadata": {},
   "source": [
    "### Newton Rapson Method"
   ]
  },
  {
   "cell_type": "markdown",
   "metadata": {},
   "source": []
  },
  {
   "cell_type": "markdown",
   "metadata": {},
   "source": [
    "### Secant Method"
   ]
  },
  {
   "cell_type": "markdown",
   "metadata": {},
   "source": []
  },
  {
   "cell_type": "markdown",
   "metadata": {},
   "source": [
    "### Euler’s Method"
   ]
  },
  {
   "cell_type": "markdown",
   "metadata": {},
   "source": []
  },
  {
   "cell_type": "code",
   "execution_count": null,
   "metadata": {},
   "outputs": [],
   "source": []
  },
  {
   "cell_type": "code",
   "execution_count": null,
   "metadata": {},
   "outputs": [],
   "source": []
  },
  {
   "cell_type": "code",
   "execution_count": null,
   "metadata": {},
   "outputs": [],
   "source": []
  }
 ],
 "metadata": {
  "kernelspec": {
   "display_name": "Python 3",
   "language": "python",
   "name": "python3"
  },
  "language_info": {
   "codemirror_mode": {
    "name": "ipython",
    "version": 3
   },
   "file_extension": ".py",
   "mimetype": "text/x-python",
   "name": "python",
   "nbconvert_exporter": "python",
   "pygments_lexer": "ipython3",
   "version": "3.13.0"
  }
 },
 "nbformat": 4,
 "nbformat_minor": 2
}
